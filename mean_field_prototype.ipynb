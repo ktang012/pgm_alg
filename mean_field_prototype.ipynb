{
 "cells": [
  {
   "cell_type": "code",
   "execution_count": 1,
   "metadata": {},
   "outputs": [],
   "source": [
    "# Requires numpy, pandas, wrapt, scipy, networkx 1.11\n",
    "import math\n",
    "import itertools\n",
    "import numpy as np\n",
    "import copy\n",
    "\n",
    "from pgmpy.models import BayesianModel\n",
    "from pgmpy.factors.discrete import TabularCPD, DiscreteFactor\n",
    "from pgmpy.inference.ExactInference import BeliefPropagation"
   ]
  },
  {
   "cell_type": "code",
   "execution_count": 2,
   "metadata": {},
   "outputs": [],
   "source": [
    "cancer_model = BayesianModel([('Pollution', 'Cancer'), \n",
    "                              ('Smoker', 'Cancer'),\n",
    "                              ('Cancer', 'Xray'),\n",
    "                              ('Cancer', 'Dyspnoea')])\n",
    "\n",
    "cpd_poll = TabularCPD(variable='Pollution', variable_card=2,\n",
    "                      values=[[0.9], [0.1]])\n",
    "cpd_smoke = TabularCPD(variable='Smoker', variable_card=2,\n",
    "                       values=[[0.3], [0.7]])\n",
    "cpd_cancer = TabularCPD(variable='Cancer', variable_card=2,\n",
    "                        values=[[0.03, 0.05, 0.001, 0.02],\n",
    "                                [0.97, 0.95, 0.999, 0.98]],\n",
    "                        evidence=['Smoker', 'Pollution'],\n",
    "                        evidence_card=[2, 2])\n",
    "cpd_xray = TabularCPD(variable='Xray', variable_card=2,\n",
    "                      values=[[0.9, 0.2], [0.1, 0.8]],\n",
    "                      evidence=['Cancer'], evidence_card=[2])\n",
    "cpd_dysp = TabularCPD(variable='Dyspnoea', variable_card=2,\n",
    "                      values=[[0.65, 0.3], [0.35, 0.7]],\n",
    "                      evidence=['Cancer'], evidence_card=[2])\n",
    "\n",
    "cancer_model.add_cpds(cpd_poll, cpd_smoke, cpd_cancer, \n",
    "                      cpd_xray, cpd_dysp)"
   ]
  },
  {
   "cell_type": "code",
   "execution_count": 3,
   "metadata": {},
   "outputs": [],
   "source": [
    "cpd_poll = cpd_poll.to_factor()\n",
    "cpd_smoke = cpd_smoke.to_factor()\n",
    "cpd_cancer = cpd_cancer.to_factor()\n",
    "cpd_xray = cpd_xray.to_factor()\n",
    "cpd_dysp = cpd_dysp.to_factor()"
   ]
  },
  {
   "cell_type": "code",
   "execution_count": 4,
   "metadata": {},
   "outputs": [],
   "source": [
    "def init_Q(factors):\n",
    "    ''' Input: list of factors\n",
    "        Initialize a uniform distribution over the variables \n",
    "        defined by the factors '''\n",
    "        \n",
    "    Q = {}\n",
    "    for f in factors:\n",
    "        factor_cardinality = f.get_cardinality(f.scope())\n",
    "        for var,card in factor_cardinality.items():\n",
    "            if var not in Q:\n",
    "                # cpd_values = [1/card for i in range(card)]\n",
    "                # Q[var] = TabularCPD(var, card, [cpd_values])   \n",
    "                Q[var] = DiscreteFactor(variables=var, cardinality=[card],\n",
    "                                        values=[np.random.uniform(1,100,size=(card))])    \n",
    "    return Q"
   ]
  },
  {
   "cell_type": "code",
   "execution_count": 16,
   "metadata": {},
   "outputs": [],
   "source": [
    "fcard = cpd_poll.get_cardinality(cpd_poll.scope())\n",
    "for var, card in fcard.items():\n",
    "    new_Q = DiscreteFactor(variables=['A'], cardinality=[2],\n",
    "                           values=np.random.uniform(size=(2)))"
   ]
  },
  {
   "cell_type": "code",
   "execution_count": 5,
   "metadata": {},
   "outputs": [
    {
     "ename": "TypeError",
     "evalue": "Variables: Expected type list or array like, got string",
     "output_type": "error",
     "traceback": [
      "\u001b[0;31m---------------------------------------------------------------------------\u001b[0m",
      "\u001b[0;31mTypeError\u001b[0m                                 Traceback (most recent call last)",
      "\u001b[0;32m<ipython-input-5-edcc0a234365>\u001b[0m in \u001b[0;36m<module>\u001b[0;34m()\u001b[0m\n\u001b[0;32m----> 1\u001b[0;31m \u001b[0mQ_0\u001b[0m \u001b[0;34m=\u001b[0m \u001b[0minit_Q\u001b[0m\u001b[0;34m(\u001b[0m\u001b[0;34m[\u001b[0m\u001b[0mcpd_poll\u001b[0m\u001b[0;34m,\u001b[0m \u001b[0mcpd_smoke\u001b[0m\u001b[0;34m]\u001b[0m\u001b[0;34m)\u001b[0m\u001b[0;34m\u001b[0m\u001b[0m\n\u001b[0m",
      "\u001b[0;32m<ipython-input-4-5c96b0021dfd>\u001b[0m in \u001b[0;36minit_Q\u001b[0;34m(factors)\u001b[0m\n\u001b[1;32m     12\u001b[0m                 \u001b[0;31m# Q[var] = TabularCPD(var, card, [cpd_values])\u001b[0m\u001b[0;34m\u001b[0m\u001b[0;34m\u001b[0m\u001b[0m\n\u001b[1;32m     13\u001b[0m                 Q[var] = DiscreteFactor(variables=var, cardinality=[card],\n\u001b[0;32m---> 14\u001b[0;31m                                         values=[np.random.uniform(1,100,size=(card))])    \n\u001b[0m\u001b[1;32m     15\u001b[0m     \u001b[0;32mreturn\u001b[0m \u001b[0mQ\u001b[0m\u001b[0;34m\u001b[0m\u001b[0m\n",
      "\u001b[0;32m/usr/local/lib/python3.5/dist-packages/pgmpy/utils/state_name.py\u001b[0m in \u001b[0;36m__call__\u001b[0;34m(self, f, instance, args, kwargs)\u001b[0m\n\u001b[1;32m     39\u001b[0m             \u001b[0minstance\u001b[0m\u001b[0;34m.\u001b[0m\u001b[0mstate_names\u001b[0m \u001b[0;34m=\u001b[0m \u001b[0mkwargs\u001b[0m\u001b[0;34m[\u001b[0m\u001b[0;34m'state_names'\u001b[0m\u001b[0;34m]\u001b[0m\u001b[0;34m\u001b[0m\u001b[0m\n\u001b[1;32m     40\u001b[0m             \u001b[0;32mdel\u001b[0m \u001b[0mkwargs\u001b[0m\u001b[0;34m[\u001b[0m\u001b[0;34m'state_names'\u001b[0m\u001b[0;34m]\u001b[0m\u001b[0;34m\u001b[0m\u001b[0m\n\u001b[0;32m---> 41\u001b[0;31m         \u001b[0mf\u001b[0m\u001b[0;34m(\u001b[0m\u001b[0;34m*\u001b[0m\u001b[0margs\u001b[0m\u001b[0;34m,\u001b[0m \u001b[0;34m**\u001b[0m\u001b[0mkwargs\u001b[0m\u001b[0;34m)\u001b[0m\u001b[0;34m\u001b[0m\u001b[0m\n\u001b[0m\u001b[1;32m     42\u001b[0m \u001b[0;34m\u001b[0m\u001b[0m\n\u001b[1;32m     43\u001b[0m \u001b[0;34m\u001b[0m\u001b[0m\n",
      "\u001b[0;32m/usr/local/lib/python3.5/dist-packages/pgmpy/factors/discrete/DiscreteFactor.py\u001b[0m in \u001b[0;36m__init__\u001b[0;34m(self, variables, cardinality, values)\u001b[0m\n\u001b[1;32m     94\u001b[0m         \"\"\"\n\u001b[1;32m     95\u001b[0m         \u001b[0;32mif\u001b[0m \u001b[0misinstance\u001b[0m\u001b[0;34m(\u001b[0m\u001b[0mvariables\u001b[0m\u001b[0;34m,\u001b[0m \u001b[0msix\u001b[0m\u001b[0;34m.\u001b[0m\u001b[0mstring_types\u001b[0m\u001b[0;34m)\u001b[0m\u001b[0;34m:\u001b[0m\u001b[0;34m\u001b[0m\u001b[0m\n\u001b[0;32m---> 96\u001b[0;31m             \u001b[0;32mraise\u001b[0m \u001b[0mTypeError\u001b[0m\u001b[0;34m(\u001b[0m\u001b[0;34m\"Variables: Expected type list or array like, got string\"\u001b[0m\u001b[0;34m)\u001b[0m\u001b[0;34m\u001b[0m\u001b[0m\n\u001b[0m\u001b[1;32m     97\u001b[0m \u001b[0;34m\u001b[0m\u001b[0m\n\u001b[1;32m     98\u001b[0m         \u001b[0mvalues\u001b[0m \u001b[0;34m=\u001b[0m \u001b[0mnp\u001b[0m\u001b[0;34m.\u001b[0m\u001b[0marray\u001b[0m\u001b[0;34m(\u001b[0m\u001b[0mvalues\u001b[0m\u001b[0;34m,\u001b[0m \u001b[0mdtype\u001b[0m\u001b[0;34m=\u001b[0m\u001b[0mfloat\u001b[0m\u001b[0;34m)\u001b[0m\u001b[0;34m\u001b[0m\u001b[0m\n",
      "\u001b[0;31mTypeError\u001b[0m: Variables: Expected type list or array like, got string"
     ]
    }
   ],
   "source": [
    "Q_0 = init_Q([cpd_poll, cpd_smoke])"
   ]
  },
  {
   "cell_type": "code",
   "execution_count": 24,
   "metadata": {},
   "outputs": [
    {
     "name": "stdout",
     "output_type": "stream",
     "text": [
      "╒═════════════╤══════════════════╕\n",
      "│ Pollution   │   phi(Pollution) │\n",
      "╞═════════════╪══════════════════╡\n",
      "│ Pollution_0 │           0.9000 │\n",
      "├─────────────┼──────────────────┤\n",
      "│ Pollution_1 │           0.1000 │\n",
      "╘═════════════╧══════════════════╛\n",
      "╒════════════╤═════════════════╕\n",
      "│ Dyspnoea   │   phi(Dyspnoea) │\n",
      "╞════════════╪═════════════════╡\n",
      "│ Dyspnoea_0 │          0.3041 │\n",
      "├────────────┼─────────────────┤\n",
      "│ Dyspnoea_1 │          0.6959 │\n",
      "╘════════════╧═════════════════╛\n",
      "╒══════════╤═══════════════╕\n",
      "│ Cancer   │   phi(Cancer) │\n",
      "╞══════════╪═══════════════╡\n",
      "│ Cancer_0 │        0.0116 │\n",
      "├──────────┼───────────────┤\n",
      "│ Cancer_1 │        0.9884 │\n",
      "╘══════════╧═══════════════╛\n",
      "╒══════════╤═══════════════╕\n",
      "│ Smoker   │   phi(Smoker) │\n",
      "╞══════════╪═══════════════╡\n",
      "│ Smoker_0 │        0.3000 │\n",
      "├──────────┼───────────────┤\n",
      "│ Smoker_1 │        0.7000 │\n",
      "╘══════════╧═══════════════╛\n",
      "╒════════╤═════════════╕\n",
      "│ Xray   │   phi(Xray) │\n",
      "╞════════╪═════════════╡\n",
      "│ Xray_0 │      0.2081 │\n",
      "├────────┼─────────────┤\n",
      "│ Xray_1 │      0.7919 │\n",
      "╘════════╧═════════════╛\n"
     ]
    }
   ],
   "source": [
    "bp = BeliefPropagation(cancer_model)\n",
    "bp.calibrate()\n",
    "\n",
    "query = bp.query(variables=[\"Cancer\", \"Xray\", \"Pollution\", \"Smoker\", \"Dyspnoea\"])\n",
    "\n",
    "for i in query:\n",
    "    print(query[i])"
   ]
  },
  {
   "cell_type": "code",
   "execution_count": 25,
   "metadata": {},
   "outputs": [],
   "source": [
    "def get_gibbs_scope(factors):\n",
    "    variables = set()\n",
    "    for f in factors:\n",
    "        fscope = set(f.scope())\n",
    "        variables = variables.union(fscope)\n",
    "    return variables"
   ]
  },
  {
   "cell_type": "code",
   "execution_count": 26,
   "metadata": {},
   "outputs": [
    {
     "data": {
      "text/plain": [
       "{'Cancer', 'Xray'}"
      ]
     },
     "execution_count": 26,
     "metadata": {},
     "output_type": "execute_result"
    }
   ],
   "source": [
    "get_gibbs_scope([cpd_xray])"
   ]
  },
  {
   "cell_type": "code",
   "execution_count": 27,
   "metadata": {},
   "outputs": [],
   "source": [
    "def get_assignment_index(factor, assignment):\n",
    "    # Assignment should be fully defined\n",
    "    indices = []\n",
    "    for var in factor.scope():\n",
    "        if var in assignment:\n",
    "            indices.append(assignment[var])\n",
    "        else:\n",
    "            indices.append(slice(factor.get_cardinality([var])[var]))\n",
    "            \n",
    "    indices = tuple(indices)\n",
    "    return indices"
   ]
  },
  {
   "cell_type": "code",
   "execution_count": 28,
   "metadata": {},
   "outputs": [
    {
     "name": "stdout",
     "output_type": "stream",
     "text": [
      "(slice(None, 2, None), slice(None, 2, None), 1)\n",
      "[[0.05 0.02]\n",
      " [0.95 0.98]]\n"
     ]
    }
   ],
   "source": [
    "indices = get_assignment_index(cpd_cancer, {'Pollution': 1})\n",
    "print(indices)\n",
    "print(cpd_cancer.values[indices])"
   ]
  },
  {
   "cell_type": "code",
   "execution_count": 29,
   "metadata": {},
   "outputs": [
    {
     "name": "stdout",
     "output_type": "stream",
     "text": [
      "╒══════════╤══════════╤═════════════╤════════════════════════════════╕\n",
      "│ Cancer   │ Smoker   │ Pollution   │   phi(Cancer,Smoker,Pollution) │\n",
      "╞══════════╪══════════╪═════════════╪════════════════════════════════╡\n",
      "│ Cancer_0 │ Smoker_0 │ Pollution_0 │                         0.0300 │\n",
      "├──────────┼──────────┼─────────────┼────────────────────────────────┤\n",
      "│ Cancer_0 │ Smoker_0 │ Pollution_1 │                         0.0500 │\n",
      "├──────────┼──────────┼─────────────┼────────────────────────────────┤\n",
      "│ Cancer_0 │ Smoker_1 │ Pollution_0 │                         0.0010 │\n",
      "├──────────┼──────────┼─────────────┼────────────────────────────────┤\n",
      "│ Cancer_0 │ Smoker_1 │ Pollution_1 │                         0.0200 │\n",
      "├──────────┼──────────┼─────────────┼────────────────────────────────┤\n",
      "│ Cancer_1 │ Smoker_0 │ Pollution_0 │                         0.9700 │\n",
      "├──────────┼──────────┼─────────────┼────────────────────────────────┤\n",
      "│ Cancer_1 │ Smoker_0 │ Pollution_1 │                         0.9500 │\n",
      "├──────────┼──────────┼─────────────┼────────────────────────────────┤\n",
      "│ Cancer_1 │ Smoker_1 │ Pollution_0 │                         0.9990 │\n",
      "├──────────┼──────────┼─────────────┼────────────────────────────────┤\n",
      "│ Cancer_1 │ Smoker_1 │ Pollution_1 │                         0.9800 │\n",
      "╘══════════╧══════════╧═════════════╧════════════════════════════════╛\n",
      "{'Pollution': 2, 'Cancer': 2, 'Smoker': 2}\n",
      "[[('Cancer', 0), ('Smoker', 0), ('Pollution', 1)]]\n",
      "0.05\n"
     ]
    }
   ],
   "source": [
    "print(cpd_cancer)\n",
    "print(cpd_cancer.get_cardinality(cpd_cancer.scope()))\n",
    "print(cpd_cancer.assignment([1]))\n",
    "print(cpd_cancer.values[0,0,1])"
   ]
  },
  {
   "cell_type": "code",
   "execution_count": 30,
   "metadata": {},
   "outputs": [],
   "source": [
    "def get_numeric_cardinality(cpd,exclude=None):\n",
    "    # Get the numeric cardinality\n",
    "    if exclude != None:\n",
    "        fscope = list(cpd.scope())\n",
    "        fscope.remove(exclude)\n",
    "        card = cpd.get_cardinality(fscope)\n",
    "    else:\n",
    "        card = cpd.get_cardinality(cpd.scope())\n",
    "    \n",
    "    num_cardinality = 1\n",
    "    for i in card:\n",
    "        num_cardinality *= card[i]\n",
    "    return num_cardinality"
   ]
  },
  {
   "cell_type": "code",
   "execution_count": 31,
   "metadata": {},
   "outputs": [
    {
     "name": "stdout",
     "output_type": "stream",
     "text": [
      "8\n"
     ]
    }
   ],
   "source": [
    "print(get_numeric_cardinality(cpd_cancer))"
   ]
  },
  {
   "cell_type": "code",
   "execution_count": 32,
   "metadata": {},
   "outputs": [],
   "source": [
    "def get_factors_with_variable(factors, variable):\n",
    "    # Get all factors with variable in its scope\n",
    "    factors_with_variable = set()\n",
    "    for f in factors:\n",
    "        if variable in f.scope():\n",
    "            factors_with_variable.add(f)\n",
    "    return factors_with_variable"
   ]
  },
  {
   "cell_type": "code",
   "execution_count": 33,
   "metadata": {},
   "outputs": [
    {
     "name": "stdout",
     "output_type": "stream",
     "text": [
      "{'pear': 0, 'orange': 0, 'apple': 0}\n",
      "{'pear': 1, 'orange': 0, 'apple': 0}\n",
      "{'pear': 2, 'orange': 0, 'apple': 0}\n",
      "{'pear': 0, 'orange': 1, 'apple': 0}\n",
      "{'pear': 1, 'orange': 1, 'apple': 0}\n",
      "{'pear': 2, 'orange': 1, 'apple': 0}\n",
      "{'pear': 0, 'orange': 2, 'apple': 0}\n",
      "{'pear': 1, 'orange': 2, 'apple': 0}\n",
      "{'pear': 2, 'orange': 2, 'apple': 0}\n",
      "{'pear': 0, 'orange': 0, 'apple': 1}\n",
      "{'pear': 1, 'orange': 0, 'apple': 1}\n",
      "{'pear': 2, 'orange': 0, 'apple': 1}\n",
      "{'pear': 0, 'orange': 1, 'apple': 1}\n",
      "{'pear': 1, 'orange': 1, 'apple': 1}\n",
      "{'pear': 2, 'orange': 1, 'apple': 1}\n",
      "{'pear': 0, 'orange': 2, 'apple': 1}\n",
      "{'pear': 1, 'orange': 2, 'apple': 1}\n",
      "{'pear': 2, 'orange': 2, 'apple': 1}\n"
     ]
    }
   ],
   "source": [
    "vars = ['apple', 'orange', 'pear']\n",
    "domain = [range(2), range(3), range(3)]\n",
    "for i in itertools.product(*domain):\n",
    "    my_dict = {}\n",
    "    for j, k in zip(vars,i):\n",
    "        my_dict[j] = k\n",
    "    print(my_dict)"
   ]
  },
  {
   "cell_type": "code",
   "execution_count": 34,
   "metadata": {},
   "outputs": [],
   "source": [
    "def get_all_assignments(cardinality):\n",
    "    variables = []\n",
    "    domains = []\n",
    "    all_assignments = []\n",
    "    \n",
    "    for var in cardinality:\n",
    "        domains.append(range(cardinality[var]))\n",
    "        variables.append(var)\n",
    "    \n",
    "    for vals in itertools.product(*domains):\n",
    "        assignment = {}\n",
    "        for var, val in zip(variables, vals):\n",
    "            assignment[var] = val\n",
    "        all_assignments.append(assignment)\n",
    "    \n",
    "    return all_assignments"
   ]
  },
  {
   "cell_type": "code",
   "execution_count": 35,
   "metadata": {},
   "outputs": [
    {
     "name": "stdout",
     "output_type": "stream",
     "text": [
      "╒══════════╤══════════╤═════════════╤════════════════════════════════╕\n",
      "│ Cancer   │ Smoker   │ Pollution   │   phi(Cancer,Smoker,Pollution) │\n",
      "╞══════════╪══════════╪═════════════╪════════════════════════════════╡\n",
      "│ Cancer_0 │ Smoker_0 │ Pollution_0 │                         0.0300 │\n",
      "├──────────┼──────────┼─────────────┼────────────────────────────────┤\n",
      "│ Cancer_0 │ Smoker_0 │ Pollution_1 │                         0.0500 │\n",
      "├──────────┼──────────┼─────────────┼────────────────────────────────┤\n",
      "│ Cancer_0 │ Smoker_1 │ Pollution_0 │                         0.0010 │\n",
      "├──────────┼──────────┼─────────────┼────────────────────────────────┤\n",
      "│ Cancer_0 │ Smoker_1 │ Pollution_1 │                         0.0200 │\n",
      "├──────────┼──────────┼─────────────┼────────────────────────────────┤\n",
      "│ Cancer_1 │ Smoker_0 │ Pollution_0 │                         0.9700 │\n",
      "├──────────┼──────────┼─────────────┼────────────────────────────────┤\n",
      "│ Cancer_1 │ Smoker_0 │ Pollution_1 │                         0.9500 │\n",
      "├──────────┼──────────┼─────────────┼────────────────────────────────┤\n",
      "│ Cancer_1 │ Smoker_1 │ Pollution_0 │                         0.9990 │\n",
      "├──────────┼──────────┼─────────────┼────────────────────────────────┤\n",
      "│ Cancer_1 │ Smoker_1 │ Pollution_1 │                         0.9800 │\n",
      "╘══════════╧══════════╧═════════════╧════════════════════════════════╛\n",
      "{'Cancer': 0, 'Smoker': 0} : [0.03 0.05]\n",
      "{'Cancer': 0, 'Smoker': 1} : [0.001 0.02 ]\n",
      "{'Cancer': 1, 'Smoker': 0} : [0.97 0.95]\n",
      "{'Cancer': 1, 'Smoker': 1} : [0.999 0.98 ]\n"
     ]
    }
   ],
   "source": [
    "all_assn = get_all_assignments(cpd_cancer.get_cardinality(['Smoker', 'Cancer']))\n",
    "\n",
    "print(cpd_cancer)\n",
    "for assn in all_assn:\n",
    "    index = get_assignment_index(cpd_cancer, assn)\n",
    "    print(assn, \":\", cpd_cancer.values[index])"
   ]
  },
  {
   "cell_type": "code",
   "execution_count": 36,
   "metadata": {},
   "outputs": [],
   "source": [
    "def get_marg_products(assignments, Q):\n",
    "    product = 1\n",
    "    for var, assn in assignments.items():\n",
    "        product *= Q[var].values[assn]\n",
    "    return product"
   ]
  },
  {
   "cell_type": "code",
   "execution_count": 37,
   "metadata": {},
   "outputs": [],
   "source": [
    "def fixed_point_optimize(x_i, factors, Q):\n",
    "    new_x_i = 0\n",
    "    for f in factors:\n",
    "        U_phi_cardinality = dict(f.get_cardinality(f.scope()))\n",
    "        del U_phi_cardinality[x_i[0]]\n",
    "        U_phi_assignments = get_all_assignments(U_phi_cardinality)\n",
    "        \n",
    "        for u_phi in U_phi_assignments:\n",
    "            marg_product = get_marg_products(u_phi, Q)\n",
    "            u_phi[x_i[0]] = x_i[1]\n",
    "            index = get_assignment_index(f, u_phi)\n",
    "            new_x_i += marg_product * f.values[index]\n",
    "            \n",
    "    return math.exp(new_x_i)\n",
    "            "
   ]
  },
  {
   "cell_type": "code",
   "execution_count": 38,
   "metadata": {},
   "outputs": [],
   "source": [
    "def mean_field_approximation(factors, init_Q):\n",
    "    # Q is a set of marginals\n",
    "    # make function that assigns uniform prob to all assignments\n",
    "    Q = copy.deepcopy(init_Q)\n",
    "    unprocessed = get_gibbs_scope(factors)\n",
    "    while len(unprocessed) != 0:\n",
    "        variable_to_optimize = unprocessed.pop()\n",
    "        old_X_i = Q[variable_to_optimize].copy()\n",
    "        num_cardinality = get_numeric_cardinality(Q[variable_to_optimize])\n",
    "        relevant_factors = get_factors_with_variable(factors,variable_to_optimize)\n",
    "\n",
    "        for i in range(num_cardinality):\n",
    "            variable_assignment = (variable_to_optimize, i)    \n",
    "            index = get_assignment_index(Q[variable_to_optimize], {variable_to_optimize: i})\n",
    "            Q[variable_to_optimize].values[index] = fixed_point_optimize(variable_assignment,\n",
    "                                                                  relevant_factors, Q)\n",
    "        Q[variable_to_optimize].normalize(inplace=True)\n",
    "        if not np.allclose(Q[variable_to_optimize].values, old_X_i.values):\n",
    "            vars_to_process = get_gibbs_scope(relevant_factors)\n",
    "            unprocessed = unprocessed.union(vars_to_process)\n",
    "            \n",
    "        if variable_to_optimize in unprocessed:\n",
    "            unprocessed.remove(variable_to_optimize)\n",
    "        \n",
    "    return Q"
   ]
  },
  {
   "cell_type": "code",
   "execution_count": 39,
   "metadata": {},
   "outputs": [],
   "source": [
    "def init_Q(factors):\n",
    "    Q = {}\n",
    "    for f in factors:\n",
    "        factor_cardinality = f.get_cardinality(f.scope())\n",
    "        for var,card in factor_cardinality.items():\n",
    "            if var not in Q:\n",
    "                cpd_values = [1/card for i in range(card)]\n",
    "                Q[var] = TabularCPD(var, card, [cpd_values])\n",
    "                \n",
    "    return Q "
   ]
  },
  {
   "cell_type": "code",
   "execution_count": 40,
   "metadata": {},
   "outputs": [],
   "source": [
    "my_factors = [cpd_poll, cpd_smoke, cpd_cancer, \n",
    "              cpd_xray, cpd_dysp]\n",
    "my_Q = init_Q(my_factors)"
   ]
  },
  {
   "cell_type": "code",
   "execution_count": 41,
   "metadata": {},
   "outputs": [],
   "source": [
    "new_Q = mean_field_approximation(my_factors, my_Q)"
   ]
  },
  {
   "cell_type": "code",
   "execution_count": 42,
   "metadata": {},
   "outputs": [
    {
     "name": "stdout",
     "output_type": "stream",
     "text": [
      "╒═════════════╤═════╕\n",
      "│ Pollution_0 │ 0.5 │\n",
      "├─────────────┼─────┤\n",
      "│ Pollution_1 │ 0.5 │\n",
      "╘═════════════╧═════╛\n",
      "╒═════════════╤══════════╕\n",
      "│ Pollution_0 │ 0.692029 │\n",
      "├─────────────┼──────────┤\n",
      "│ Pollution_1 │ 0.307971 │\n",
      "╘═════════════╧══════════╛\n",
      "╒════════════╤═════╕\n",
      "│ Dyspnoea_0 │ 0.5 │\n",
      "├────────────┼─────┤\n",
      "│ Dyspnoea_1 │ 0.5 │\n",
      "╘════════════╧═════╛\n",
      "╒════════════╤═════════╕\n",
      "│ Dyspnoea_0 │ 0.44433 │\n",
      "├────────────┼─────────┤\n",
      "│ Dyspnoea_1 │ 0.55567 │\n",
      "╘════════════╧═════════╛\n",
      "╒══════════╤═════╕\n",
      "│ Cancer_0 │ 0.5 │\n",
      "├──────────┼─────┤\n",
      "│ Cancer_1 │ 0.5 │\n",
      "╘══════════╧═════╛\n",
      "╒══════════╤═════════╕\n",
      "│ Cancer_0 │ 0.25199 │\n",
      "├──────────┼─────────┤\n",
      "│ Cancer_1 │ 0.74801 │\n",
      "╘══════════╧═════════╛\n",
      "╒══════════╤═════╕\n",
      "│ Smoker_0 │ 0.5 │\n",
      "├──────────┼─────┤\n",
      "│ Smoker_1 │ 0.5 │\n",
      "╘══════════╧═════╛\n",
      "╒══════════╤══════════╕\n",
      "│ Smoker_0 │ 0.397825 │\n",
      "├──────────┼──────────┤\n",
      "│ Smoker_1 │ 0.602175 │\n",
      "╘══════════╧══════════╛\n",
      "╒════════╤═════╕\n",
      "│ Xray_0 │ 0.5 │\n",
      "├────────┼─────┤\n",
      "│ Xray_1 │ 0.5 │\n",
      "╘════════╧═════╛\n",
      "╒════════╤══════════╕\n",
      "│ Xray_0 │ 0.438509 │\n",
      "├────────┼──────────┤\n",
      "│ Xray_1 │ 0.561491 │\n",
      "╘════════╧══════════╛\n"
     ]
    }
   ],
   "source": [
    "for i in new_Q:\n",
    "    print(my_Q[i])\n",
    "    print(new_Q[i])"
   ]
  },
  {
   "cell_type": "code",
   "execution_count": 43,
   "metadata": {},
   "outputs": [
    {
     "name": "stdout",
     "output_type": "stream",
     "text": [
      "╒═════════════╤══════════════════╕\n",
      "│ Pollution   │   phi(Pollution) │\n",
      "╞═════════════╪══════════════════╡\n",
      "│ Pollution_0 │           0.9000 │\n",
      "├─────────────┼──────────────────┤\n",
      "│ Pollution_1 │           0.1000 │\n",
      "╘═════════════╧══════════════════╛\n",
      "╒════════════╤═════════════════╕\n",
      "│ Dyspnoea   │   phi(Dyspnoea) │\n",
      "╞════════════╪═════════════════╡\n",
      "│ Dyspnoea_0 │          0.3041 │\n",
      "├────────────┼─────────────────┤\n",
      "│ Dyspnoea_1 │          0.6959 │\n",
      "╘════════════╧═════════════════╛\n",
      "╒══════════╤═══════════════╕\n",
      "│ Cancer   │   phi(Cancer) │\n",
      "╞══════════╪═══════════════╡\n",
      "│ Cancer_0 │        0.0116 │\n",
      "├──────────┼───────────────┤\n",
      "│ Cancer_1 │        0.9884 │\n",
      "╘══════════╧═══════════════╛\n",
      "╒══════════╤═══════════════╕\n",
      "│ Smoker   │   phi(Smoker) │\n",
      "╞══════════╪═══════════════╡\n",
      "│ Smoker_0 │        0.3000 │\n",
      "├──────────┼───────────────┤\n",
      "│ Smoker_1 │        0.7000 │\n",
      "╘══════════╧═══════════════╛\n",
      "╒════════╤═════════════╕\n",
      "│ Xray   │   phi(Xray) │\n",
      "╞════════╪═════════════╡\n",
      "│ Xray_0 │      0.2081 │\n",
      "├────────┼─────────────┤\n",
      "│ Xray_1 │      0.7919 │\n",
      "╘════════╧═════════════╛\n"
     ]
    }
   ],
   "source": [
    "bp = BeliefPropagation(cancer_model)\n",
    "bp.calibrate()\n",
    "query = bp.query(variables=[\"Cancer\", \"Xray\", \"Pollution\", \"Smoker\", \"Dyspnoea\"])\n",
    "\n",
    "for i in query:\n",
    "    print(query[i])"
   ]
  },
  {
   "cell_type": "code",
   "execution_count": null,
   "metadata": {},
   "outputs": [],
   "source": []
  },
  {
   "cell_type": "code",
   "execution_count": null,
   "metadata": {},
   "outputs": [],
   "source": []
  },
  {
   "cell_type": "code",
   "execution_count": null,
   "metadata": {},
   "outputs": [],
   "source": []
  }
 ],
 "metadata": {
  "kernelspec": {
   "display_name": "Python 3",
   "language": "python",
   "name": "python3"
  },
  "language_info": {
   "codemirror_mode": {
    "name": "ipython",
    "version": 3
   },
   "file_extension": ".py",
   "mimetype": "text/x-python",
   "name": "python",
   "nbconvert_exporter": "python",
   "pygments_lexer": "ipython3",
   "version": "3.5.2"
  }
 },
 "nbformat": 4,
 "nbformat_minor": 2
}
