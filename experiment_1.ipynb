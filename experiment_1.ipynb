{
 "cells": [
  {
   "cell_type": "code",
   "execution_count": 1,
   "metadata": {
    "scrolled": true
   },
   "outputs": [],
   "source": [
    "import math, itertools, copy\n",
    "import numpy as np\n",
    "import matplotlib.pyplot as plt\n",
    "\n",
    "from pgmpy.factors.discrete import TabularCPD, DiscreteFactor\n",
    "from pgmpy.models import ClusterGraph, MarkovModel, BayesianModel\n",
    "from pgmpy.inference.ExactInference import BeliefPropagation\n",
    "\n",
    "from pgm_utils import *\n",
    "from pgm_algorithms import MeanFieldInference, LoopyBeliefPropagation\n",
    "\n",
    "%matplotlib inline"
   ]
  },
  {
   "cell_type": "code",
   "execution_count": 2,
   "metadata": {
    "scrolled": true
   },
   "outputs": [],
   "source": [
    "def experiment_1():\n",
    "    # Set up factors\n",
    "    np.random.seed(seed=1)\n",
    "    intervals = [(1,10),(1,20),(5,10),(5,20)]\n",
    "\n",
    "    factor_A = DiscreteFactor(variables=[\"A\"], cardinality=[2],\n",
    "                              values=np.random.uniform(intervals[0][0], intervals[0][1],size=(2)))\n",
    "    factor_B = DiscreteFactor(variables=[\"B\"], cardinality=[2],\n",
    "                              values=np.random.uniform(intervals[1][0], intervals[1][1],size=(2)))\n",
    "    factor_C = DiscreteFactor(variables=[\"C\"], cardinality=[2],\n",
    "                              values=np.random.uniform(intervals[2][0], intervals[2][1],size=(2)))\n",
    "    factor_D = DiscreteFactor(variables=[\"D\"], cardinality=[2],\n",
    "                              values=np.random.uniform(intervals[3][0], intervals[3][1],size=(2)))\n",
    "    factor_E = DiscreteFactor(variables=[\"E\"], cardinality=[2],\n",
    "                              values=np.random.uniform(intervals[0][0], intervals[0][1],size=(2)))\n",
    "\n",
    "    factor_AB = DiscreteFactor(variables=[\"A\", \"B\"], cardinality=[2,2],\n",
    "                               values=np.random.uniform(intervals[0][0], intervals[0][1],size=(2,2)))\n",
    "    factor_BCD = DiscreteFactor(variables=[\"B\", \"C\", \"D\"], cardinality=[2,2,2],\n",
    "                                values=np.random.uniform(intervals[1][0], intervals[1][1],size=(2,2,2)))\n",
    "    factor_AD = DiscreteFactor(variables=[\"A\", \"D\"], cardinality=[2,2],\n",
    "                               values=np.random.uniform(intervals[2][0], intervals[2][1],size=(2,2)))\n",
    "    factor_CE = DiscreteFactor(variables=[\"C\", \"E\"], cardinality=[2,2],\n",
    "                               values=np.random.uniform(intervals[3][0], intervals[3][1],size=(2,2)))\n",
    "\n",
    "    my_factors = [factor_A, factor_B, factor_C, factor_D, factor_E,\n",
    "                  factor_AB, factor_BCD, factor_AD, factor_CE]\n",
    "\n",
    "    network = MarkovModel([(\"A\",\"B\"), (\"B\",\"C\"),(\"B\",\"D\"), (\"C\",\"D\"), (\"A\",\"D\"),(\"C\",\"E\")])\n",
    "    network.add_factors(*my_factors)\n",
    "    print(\"Is model valid?\", network.check_model())\n",
    "    \n",
    "    for f in my_factors:\n",
    "        f.normalize()\n",
    "    \n",
    "    for f in my_factors:\n",
    "        print(f)\n",
    "    \n",
    "    return my_factors, network"
   ]
  },
  {
   "cell_type": "code",
   "execution_count": 3,
   "metadata": {
    "scrolled": true
   },
   "outputs": [
    {
     "name": "stdout",
     "output_type": "stream",
     "text": [
      "Is model valid? True\n",
      "╒═════╤══════════╕\n",
      "│ A   │   phi(A) │\n",
      "╞═════╪══════════╡\n",
      "│ A_0 │   0.3885 │\n",
      "├─────┼──────────┤\n",
      "│ A_1 │   0.6115 │\n",
      "╘═════╧══════════╛\n",
      "╒═════╤══════════╕\n",
      "│ B   │   phi(B) │\n",
      "╞═════╪══════════╡\n",
      "│ B_0 │   0.1294 │\n",
      "├─────┼──────────┤\n",
      "│ B_1 │   0.8706 │\n",
      "╘═════╧══════════╛\n",
      "╒═════╤══════════╕\n",
      "│ C   │   phi(C) │\n",
      "╞═════╪══════════╡\n",
      "│ C_0 │   0.5122 │\n",
      "├─────┼──────────┤\n",
      "│ C_1 │   0.4878 │\n",
      "╘═════╧══════════╛\n",
      "╒═════╤══════════╕\n",
      "│ D   │   phi(D) │\n",
      "╞═════╪══════════╡\n",
      "│ D_0 │   0.4335 │\n",
      "├─────┼──────────┤\n",
      "│ D_1 │   0.5665 │\n",
      "╘═════╧══════════╛\n",
      "╒═════╤══════════╕\n",
      "│ E   │   phi(E) │\n",
      "╞═════╪══════════╡\n",
      "│ E_0 │   0.4387 │\n",
      "├─────┼──────────┤\n",
      "│ E_1 │   0.5613 │\n",
      "╘═════╧══════════╛\n",
      "╒═════╤═════╤════════════╕\n",
      "│ A   │ B   │   phi(A,B) │\n",
      "╞═════╪═════╪════════════╡\n",
      "│ A_0 │ B_0 │     0.2015 │\n",
      "├─────┼─────┼────────────┤\n",
      "│ A_0 │ B_1 │     0.3026 │\n",
      "├─────┼─────┼────────────┤\n",
      "│ A_1 │ B_0 │     0.1199 │\n",
      "├─────┼─────┼────────────┤\n",
      "│ A_1 │ B_1 │     0.3759 │\n",
      "╘═════╧═════╧════════════╛\n",
      "╒═════╤═════╤═════╤══════════════╕\n",
      "│ B   │ C   │ D   │   phi(B,C,D) │\n",
      "╞═════╪═════╪═════╪══════════════╡\n",
      "│ B_0 │ C_0 │ D_0 │       0.0190 │\n",
      "├─────┼─────┼─────┼──────────────┤\n",
      "│ B_0 │ C_0 │ D_1 │       0.1721 │\n",
      "├─────┼─────┼─────┼──────────────┤\n",
      "│ B_0 │ C_1 │ D_0 │       0.1118 │\n",
      "├─────┼─────┼─────┼──────────────┤\n",
      "│ B_0 │ C_1 │ D_1 │       0.1455 │\n",
      "├─────┼─────┼─────┼──────────────┤\n",
      "│ B_1 │ C_0 │ D_0 │       0.0459 │\n",
      "├─────┼─────┼─────┼──────────────┤\n",
      "│ B_1 │ C_0 │ D_1 │       0.0597 │\n",
      "├─────┼─────┼─────┼──────────────┤\n",
      "│ B_1 │ C_1 │ D_0 │       0.2031 │\n",
      "├─────┼─────┼─────┼──────────────┤\n",
      "│ B_1 │ C_1 │ D_1 │       0.2429 │\n",
      "╘═════╧═════╧═════╧══════════════╛\n",
      "╒═════╤═════╤════════════╕\n",
      "│ A   │ D   │   phi(A,D) │\n",
      "╞═════╪═════╪════════════╡\n",
      "│ A_0 │ D_0 │     0.1938 │\n",
      "├─────┼─────┼────────────┤\n",
      "│ A_0 │ D_1 │     0.2497 │\n",
      "├─────┼─────┼────────────┤\n",
      "│ A_1 │ D_0 │     0.2769 │\n",
      "├─────┼─────┼────────────┤\n",
      "│ A_1 │ D_1 │     0.2796 │\n",
      "╘═════╧═════╧════════════╛\n",
      "╒═════╤═════╤════════════╕\n",
      "│ C   │ E   │   phi(C,E) │\n",
      "╞═════╪═════╪════════════╡\n",
      "│ C_0 │ E_0 │     0.1670 │\n",
      "├─────┼─────┼────────────┤\n",
      "│ C_0 │ E_1 │     0.1486 │\n",
      "├─────┼─────┼────────────┤\n",
      "│ C_1 │ E_0 │     0.2008 │\n",
      "├─────┼─────┼────────────┤\n",
      "│ C_1 │ E_1 │     0.4835 │\n",
      "╘═════╧═════╧════════════╛\n"
     ]
    }
   ],
   "source": [
    "my_factors, network = experiment_1()"
   ]
  },
  {
   "cell_type": "code",
   "execution_count": 4,
   "metadata": {
    "scrolled": true
   },
   "outputs": [
    {
     "name": "stdout",
     "output_type": "stream",
     "text": [
      "╒═════╤══════════╕\n",
      "│ C   │   phi(C) │\n",
      "╞═════╪══════════╡\n",
      "│ C_0 │   0.4225 │\n",
      "├─────┼──────────┤\n",
      "│ C_1 │   0.5775 │\n",
      "╘═════╧══════════╛\n",
      "╒═════╤══════════╕\n",
      "│ E   │   phi(E) │\n",
      "╞═════╪══════════╡\n",
      "│ E_0 │   0.4309 │\n",
      "├─────┼──────────┤\n",
      "│ E_1 │   0.5691 │\n",
      "╘═════╧══════════╛\n",
      "╒═════╤══════════╕\n",
      "│ B   │   phi(B) │\n",
      "╞═════╪══════════╡\n",
      "│ B_0 │   0.2758 │\n",
      "├─────┼──────────┤\n",
      "│ B_1 │   0.7242 │\n",
      "╘═════╧══════════╛\n",
      "╒═════╤══════════╕\n",
      "│ D   │   phi(D) │\n",
      "╞═════╪══════════╡\n",
      "│ D_0 │   0.4496 │\n",
      "├─────┼──────────┤\n",
      "│ D_1 │   0.5504 │\n",
      "╘═════╧══════════╛\n",
      "╒═════╤══════════╕\n",
      "│ A   │   phi(A) │\n",
      "╞═════╪══════════╡\n",
      "│ A_0 │   0.4237 │\n",
      "├─────┼──────────┤\n",
      "│ A_1 │   0.5763 │\n",
      "╘═════╧══════════╛\n"
     ]
    }
   ],
   "source": [
    "# Test MFA\n",
    "mfa = MeanFieldInference(my_factors)\n",
    "mfa_h = mfa.mean_field_approximation()\n",
    "for _,q in mfa.Q.items():\n",
    "    print(q.normalize(inplace=False))"
   ]
  },
  {
   "cell_type": "code",
   "execution_count": 5,
   "metadata": {
    "scrolled": true
   },
   "outputs": [
    {
     "name": "stdout",
     "output_type": "stream",
     "text": [
      "Number of iterations: 38\n"
     ]
    },
    {
     "data": {
      "image/png": "[encoded data removed]",
      "text/plain": [
       "<Figure size 432x288 with 1 Axes>"
      ]
     },
     "metadata": {},
     "output_type": "display_data"
    }
   ],
   "source": [
    "print(\"Number of iterations:\", mfa_h[\"iterations\"])\n",
    "plt.plot(mfa_h[\"processed\"])\n",
    "plt.xlabel(\"NUMBER OF ITERATIONS\")\n",
    "plt.ylabel(\"NUMBER OF UNPROCESSED VARIABLES\")\n",
    "plt.show()"
   ]
  },
  {
   "cell_type": "code",
   "execution_count": 6,
   "metadata": {},
   "outputs": [
    {
     "name": "stdout",
     "output_type": "stream",
     "text": [
      "Loopy BP has converged.\n"
     ]
    }
   ],
   "source": [
    "# Test LBP\n",
    "lbp = LoopyBeliefPropagation(my_factors)\n",
    "lbp_h = lbp.loopy_belief_propagation(lambd=0.5, num_iterations=300)"
   ]
  },
  {
   "cell_type": "code",
   "execution_count": 7,
   "metadata": {
    "scrolled": true
   },
   "outputs": [
    {
     "name": "stdout",
     "output_type": "stream",
     "text": [
      "╒═════╤═════╤════════════╕\n",
      "│ A   │ D   │   phi(A,D) │\n",
      "╞═════╪═════╪════════════╡\n",
      "│ A_0 │ D_0 │     0.0987 │\n",
      "├─────┼─────┼────────────┤\n",
      "│ A_0 │ D_1 │     0.2040 │\n",
      "├─────┼─────┼────────────┤\n",
      "│ A_1 │ D_0 │     0.2662 │\n",
      "├─────┼─────┼────────────┤\n",
      "│ A_1 │ D_1 │     0.4311 │\n",
      "╘═════╧═════╧════════════╛\n",
      "╒═════╤═════╤═════╤══════════════╕\n",
      "│ B   │ C   │ D   │   phi(B,C,D) │\n",
      "╞═════╪═════╪═════╪══════════════╡\n",
      "│ B_0 │ C_0 │ D_0 │       0.0009 │\n",
      "├─────┼─────┼─────┼──────────────┤\n",
      "│ B_0 │ C_0 │ D_1 │       0.0110 │\n",
      "├─────┼─────┼─────┼──────────────┤\n",
      "│ B_0 │ C_1 │ D_0 │       0.0110 │\n",
      "├─────┼─────┼─────┼──────────────┤\n",
      "│ B_0 │ C_1 │ D_1 │       0.0204 │\n",
      "├─────┼─────┼─────┼──────────────┤\n",
      "│ B_1 │ C_0 │ D_0 │       0.0331 │\n",
      "├─────┼─────┼─────┼──────────────┤\n",
      "│ B_1 │ C_0 │ D_1 │       0.0610 │\n",
      "├─────┼─────┼─────┼──────────────┤\n",
      "│ B_1 │ C_1 │ D_0 │       0.3199 │\n",
      "├─────┼─────┼─────┼──────────────┤\n",
      "│ B_1 │ C_1 │ D_1 │       0.5427 │\n",
      "╘═════╧═════╧═════╧══════════════╛\n",
      "╒═════╤═════╤════════════╕\n",
      "│ A   │ B   │   phi(A,B) │\n",
      "╞═════╪═════╪════════════╡\n",
      "│ A_0 │ B_0 │     0.0202 │\n",
      "├─────┼─────┼────────────┤\n",
      "│ A_0 │ B_1 │     0.2825 │\n",
      "├─────┼─────┼────────────┤\n",
      "│ A_1 │ B_0 │     0.0231 │\n",
      "├─────┼─────┼────────────┤\n",
      "│ A_1 │ B_1 │     0.6742 │\n",
      "╘═════╧═════╧════════════╛\n",
      "╒═════╤══════════╕\n",
      "│ B   │   phi(B) │\n",
      "╞═════╪══════════╡\n",
      "│ B_0 │   0.0433 │\n",
      "├─────┼──────────┤\n",
      "│ B_1 │   0.9567 │\n",
      "╘═════╧══════════╛\n",
      "╒═════╤══════════╕\n",
      "│ C   │   phi(C) │\n",
      "╞═════╪══════════╡\n",
      "│ C_0 │   0.1060 │\n",
      "├─────┼──────────┤\n",
      "│ C_1 │   0.8940 │\n",
      "╘═════╧══════════╛\n",
      "╒═════╤══════════╕\n",
      "│ E   │   phi(E) │\n",
      "╞═════╪══════════╡\n",
      "│ E_0 │   0.2686 │\n",
      "├─────┼──────────┤\n",
      "│ E_1 │   0.7314 │\n",
      "╘═════╧══════════╛\n",
      "╒═════╤══════════╕\n",
      "│ D   │   phi(D) │\n",
      "╞═════╪══════════╡\n",
      "│ D_0 │   0.3649 │\n",
      "├─────┼──────────┤\n",
      "│ D_1 │   0.6351 │\n",
      "╘═════╧══════════╛\n",
      "╒═════╤═════╤════════════╕\n",
      "│ C   │ E   │   phi(C,E) │\n",
      "╞═════╪═════╪════════════╡\n",
      "│ C_0 │ E_0 │     0.0495 │\n",
      "├─────┼─────┼────────────┤\n",
      "│ C_0 │ E_1 │     0.0564 │\n",
      "├─────┼─────┼────────────┤\n",
      "│ C_1 │ E_0 │     0.2191 │\n",
      "├─────┼─────┼────────────┤\n",
      "│ C_1 │ E_1 │     0.6750 │\n",
      "╘═════╧═════╧════════════╛\n",
      "╒═════╤══════════╕\n",
      "│ A   │   phi(A) │\n",
      "╞═════╪══════════╡\n",
      "│ A_0 │   0.3027 │\n",
      "├─────┼──────────┤\n",
      "│ A_1 │   0.6973 │\n",
      "╘═════╧══════════╛\n"
     ]
    }
   ],
   "source": [
    "for _,cb in lbp.cluster_beliefs.items():\n",
    "    print(cb.normalize(inplace=False))"
   ]
  },
  {
   "cell_type": "code",
   "execution_count": 8,
   "metadata": {},
   "outputs": [
    {
     "name": "stdout",
     "output_type": "stream",
     "text": [
      "╒═════╤══════════╕\n",
      "│ A   │   phi(A) │\n",
      "╞═════╪══════════╡\n",
      "│ A_0 │   0.3027 │\n",
      "├─────┼──────────┤\n",
      "│ A_1 │   0.6973 │\n",
      "╘═════╧══════════╛\n",
      "╒═════╤══════════╕\n",
      "│ C   │   phi(C) │\n",
      "╞═════╪══════════╡\n",
      "│ C_0 │   0.1060 │\n",
      "├─────┼──────────┤\n",
      "│ C_1 │   0.8940 │\n",
      "╘═════╧══════════╛\n",
      "╒═════╤══════════╕\n",
      "│ D   │   phi(D) │\n",
      "╞═════╪══════════╡\n",
      "│ D_0 │   0.3649 │\n",
      "├─────┼──────────┤\n",
      "│ D_1 │   0.6351 │\n",
      "╘═════╧══════════╛\n",
      "╒═════╤══════════╕\n",
      "│ E   │   phi(E) │\n",
      "╞═════╪══════════╡\n",
      "│ E_0 │   0.2686 │\n",
      "├─────┼──────────┤\n",
      "│ E_1 │   0.7314 │\n",
      "╘═════╧══════════╛\n",
      "╒═════╤══════════╕\n",
      "│ B   │   phi(B) │\n",
      "╞═════╪══════════╡\n",
      "│ B_0 │   0.0433 │\n",
      "├─────┼──────────┤\n",
      "│ B_1 │   0.9567 │\n",
      "╘═════╧══════════╛\n",
      "╒═════╤══════════╕\n",
      "│ D   │   phi(D) │\n",
      "╞═════╪══════════╡\n",
      "│ D_0 │   0.3649 │\n",
      "├─────┼──────────┤\n",
      "│ D_1 │   0.6351 │\n",
      "╘═════╧══════════╛\n",
      "╒═════╤══════════╕\n",
      "│ B   │   phi(B) │\n",
      "╞═════╪══════════╡\n",
      "│ B_0 │   0.0433 │\n",
      "├─────┼──────────┤\n",
      "│ B_1 │   0.9567 │\n",
      "╘═════╧══════════╛\n",
      "╒═════╤══════════╕\n",
      "│ C   │   phi(C) │\n",
      "╞═════╪══════════╡\n",
      "│ C_0 │   0.1060 │\n",
      "├─────┼──────────┤\n",
      "│ C_1 │   0.8940 │\n",
      "╘═════╧══════════╛\n",
      "╒═════╤══════════╕\n",
      "│ A   │   phi(A) │\n",
      "╞═════╪══════════╡\n",
      "│ A_0 │   0.3027 │\n",
      "├─────┼──────────┤\n",
      "│ A_1 │   0.6973 │\n",
      "╘═════╧══════════╛\n"
     ]
    }
   ],
   "source": [
    "for _,sb in lbp.sepset_beliefs.items():\n",
    "    print(sb.normalize(inplace=False))"
   ]
  },
  {
   "cell_type": "code",
   "execution_count": 9,
   "metadata": {
    "scrolled": true
   },
   "outputs": [
    {
     "name": "stdout",
     "output_type": "stream",
     "text": [
      "Number of iterations: 157\n"
     ]
    },
    {
     "data": {
      "image/png": "[encoded data removed]",
      "text/plain": [
       "<Figure size 432x288 with 1 Axes>"
      ]
     },
     "metadata": {},
     "output_type": "display_data"
    }
   ],
   "source": [
    "print(\"Number of iterations:\", lbp_h[\"iterations\"])\n",
    "plt.plot(lbp_h[\"convergence\"])\n",
    "plt.xlabel(\"NUMBER OF ITERATIONS\")\n",
    "plt.ylabel(\"NUMBER OF UNCONVERGED MESSAGES\")\n",
    "plt.show()"
   ]
  },
  {
   "cell_type": "code",
   "execution_count": 10,
   "metadata": {
    "scrolled": false
   },
   "outputs": [
    {
     "name": "stdout",
     "output_type": "stream",
     "text": [
      "╒═════╤══════════╕\n",
      "│ C   │   phi(C) │\n",
      "╞═════╪══════════╡\n",
      "│ C_0 │   0.1061 │\n",
      "├─────┼──────────┤\n",
      "│ C_1 │   0.8939 │\n",
      "╘═════╧══════════╛\n",
      "╒═════╤══════════╕\n",
      "│ E   │   phi(E) │\n",
      "╞═════╪══════════╡\n",
      "│ E_0 │   0.2686 │\n",
      "├─────┼──────────┤\n",
      "│ E_1 │   0.7314 │\n",
      "╘═════╧══════════╛\n",
      "╒═════╤══════════╕\n",
      "│ D   │   phi(D) │\n",
      "╞═════╪══════════╡\n",
      "│ D_0 │   0.3650 │\n",
      "├─────┼──────────┤\n",
      "│ D_1 │   0.6350 │\n",
      "╘═════╧══════════╛\n",
      "╒═════╤══════════╕\n",
      "│ B   │   phi(B) │\n",
      "╞═════╪══════════╡\n",
      "│ B_0 │   0.0434 │\n",
      "├─────┼──────────┤\n",
      "│ B_1 │   0.9566 │\n",
      "╘═════╧══════════╛\n",
      "╒═════╤══════════╕\n",
      "│ A   │   phi(A) │\n",
      "╞═════╪══════════╡\n",
      "│ A_0 │   0.3028 │\n",
      "├─────┼──────────┤\n",
      "│ A_1 │   0.6972 │\n",
      "╘═════╧══════════╛\n"
     ]
    }
   ],
   "source": [
    "# Exact inference\n",
    "bp = BeliefPropagation(network)\n",
    "bp.calibrate()\n",
    "vars_to_query = set()\n",
    "for f in my_factors:\n",
    "    vars_query = f.scope()\n",
    "    vars_to_query = vars_to_query.union(vars_query)\n",
    "for v in vars_to_query:\n",
    "    f = bp.query([v])\n",
    "    print(f[v])"
   ]
  },
  {
   "cell_type": "code",
   "execution_count": 11,
   "metadata": {
    "scrolled": true
   },
   "outputs": [
    {
     "name": "stdout",
     "output_type": "stream",
     "text": [
      "╒═════╤═════╤═════╤══════════════╕\n",
      "│ A   │ D   │ B   │   phi(A,D,B) │\n",
      "╞═════╪═════╪═════╪══════════════╡\n",
      "│ A_0 │ D_0 │ B_0 │       0.0050 │\n",
      "├─────┼─────┼─────┼──────────────┤\n",
      "│ A_0 │ D_0 │ B_1 │       0.0932 │\n",
      "├─────┼─────┼─────┼──────────────┤\n",
      "│ A_0 │ D_1 │ B_0 │       0.0155 │\n",
      "├─────┼─────┼─────┼──────────────┤\n",
      "│ A_0 │ D_1 │ B_1 │       0.1891 │\n",
      "├─────┼─────┼─────┼──────────────┤\n",
      "│ A_1 │ D_0 │ B_0 │       0.0066 │\n",
      "├─────┼─────┼─────┼──────────────┤\n",
      "│ A_1 │ D_0 │ B_1 │       0.2603 │\n",
      "├─────┼─────┼─────┼──────────────┤\n",
      "│ A_1 │ D_1 │ B_0 │       0.0163 │\n",
      "├─────┼─────┼─────┼──────────────┤\n",
      "│ A_1 │ D_1 │ B_1 │       0.4141 │\n",
      "╘═════╧═════╧═════╧══════════════╛\n",
      "╒═════╤═════╤═════╤══════════════╕\n",
      "│ C   │ D   │ B   │   phi(C,D,B) │\n",
      "╞═════╪═════╪═════╪══════════════╡\n",
      "│ C_0 │ D_0 │ B_0 │       0.0008 │\n",
      "├─────┼─────┼─────┼──────────────┤\n",
      "│ C_0 │ D_0 │ B_1 │       0.0331 │\n",
      "├─────┼─────┼─────┼──────────────┤\n",
      "│ C_0 │ D_1 │ B_0 │       0.0112 │\n",
      "├─────┼─────┼─────┼──────────────┤\n",
      "│ C_0 │ D_1 │ B_1 │       0.0609 │\n",
      "├─────┼─────┼─────┼──────────────┤\n",
      "│ C_1 │ D_0 │ B_0 │       0.0108 │\n",
      "├─────┼─────┼─────┼──────────────┤\n",
      "│ C_1 │ D_0 │ B_1 │       0.3203 │\n",
      "├─────┼─────┼─────┼──────────────┤\n",
      "│ C_1 │ D_1 │ B_0 │       0.0206 │\n",
      "├─────┼─────┼─────┼──────────────┤\n",
      "│ C_1 │ D_1 │ B_1 │       0.5423 │\n",
      "╘═════╧═════╧═════╧══════════════╛\n",
      "╒═════╤═════╤════════════╕\n",
      "│ C   │ E   │   phi(C,E) │\n",
      "╞═════╪═════╪════════════╡\n",
      "│ C_0 │ E_0 │     0.0496 │\n",
      "├─────┼─────┼────────────┤\n",
      "│ C_0 │ E_1 │     0.0565 │\n",
      "├─────┼─────┼────────────┤\n",
      "│ C_1 │ E_0 │     0.2190 │\n",
      "├─────┼─────┼────────────┤\n",
      "│ C_1 │ E_1 │     0.6749 │\n",
      "╘═════╧═════╧════════════╛\n"
     ]
    }
   ],
   "source": [
    "for _, val in bp.get_clique_beliefs().items():\n",
    "    print(val.normalize(inplace=False))"
   ]
  },
  {
   "cell_type": "code",
   "execution_count": 12,
   "metadata": {},
   "outputs": [
    {
     "name": "stdout",
     "output_type": "stream",
     "text": [
      "╒═════╤═════╤════════════╕\n",
      "│ D   │ B   │   phi(D,B) │\n",
      "╞═════╪═════╪════════════╡\n",
      "│ D_0 │ B_0 │     0.0116 │\n",
      "├─────┼─────┼────────────┤\n",
      "│ D_0 │ B_1 │     0.3534 │\n",
      "├─────┼─────┼────────────┤\n",
      "│ D_1 │ B_0 │     0.0318 │\n",
      "├─────┼─────┼────────────┤\n",
      "│ D_1 │ B_1 │     0.6032 │\n",
      "╘═════╧═════╧════════════╛\n",
      "╒═════╤══════════╕\n",
      "│ C   │   phi(C) │\n",
      "╞═════╪══════════╡\n",
      "│ C_0 │   0.1061 │\n",
      "├─────┼──────────┤\n",
      "│ C_1 │   0.8939 │\n",
      "╘═════╧══════════╛\n"
     ]
    }
   ],
   "source": [
    "for _, val in bp.get_sepset_beliefs().items():\n",
    "    print(val.normalize(inplace=False))"
   ]
  },
  {
   "cell_type": "code",
   "execution_count": null,
   "metadata": {},
   "outputs": [],
   "source": []
  }
 ],
 "metadata": {
  "kernelspec": {
   "display_name": "Python 3",
   "language": "python",
   "name": "python3"
  },
  "language_info": {
   "codemirror_mode": {
    "name": "ipython",
    "version": 3
   },
   "file_extension": ".py",
   "mimetype": "text/x-python",
   "name": "python",
   "nbconvert_exporter": "python",
   "pygments_lexer": "ipython3",
   "version": "3.5.2"
  }
 },
 "nbformat": 4,
 "nbformat_minor": 2
}
